{
 "cells": [
  {
   "cell_type": "code",
   "execution_count": 1,
   "metadata": {},
   "outputs": [],
   "source": [
    "from model_implementation_lib import *"
   ]
  },
  {
   "cell_type": "code",
   "execution_count": 2,
   "metadata": {},
   "outputs": [
    {
     "name": "stdout",
     "output_type": "stream",
     "text": [
      "Loading data\n"
     ]
    },
    {
     "name": "stderr",
     "output_type": "stream",
     "text": [
      "/Users/jeff/anaconda3/lib/python3.6/site-packages/IPython/core/interactiveshell.py:2802: DtypeWarning: Columns (1,4,6,8) have mixed types. Specify dtype option on import or set low_memory=False.\n",
      "  if self.run_code(code, result):\n"
     ]
    }
   ],
   "source": [
    "d_rf, d_mwra_base, d_dcr, d_logan, d_d_aberjona, d_h_alewife, l_locationtype, d_model_list = load_data(\n",
    "\tf_d_rf = '/Users/jeff/Projects/myrwa/myrwa-rf-bact-prediction/source_data/rec_flag_2015_16.csv',\n",
    "\tf_d_mwra_base = '/Users/jeff/Projects/myrwa/myrwa-rf-bact-prediction/source_data/mwra_base_recflag.csv',\n",
    "\tf_d_dcr = '/Users/jeff/Projects/myrwa/myrwa-rf-bact-prediction/source_data/muni_dcr_hist.csv',\n",
    "\tf_d_logan = '/Users/jeff/Projects/myrwa/myrwa-rf-bact-prediction/source_data/logan_hourly.csv',\n",
    "\tf_d_d_aberjona = '/Users/jeff/Projects/myrwa/myrwa-rf-bact-prediction/source_data/01102500-aberjona-day.txt',\n",
    "\tf_d_h_alewife = '/Users/jeff/Projects/myrwa/myrwa-rf-bact-prediction/source_data/01103025-alewife-hour.txt',\n",
    "\tf_l_locationtype = '/Users/jeff/Projects/myrwa/myrwa-rf-bact-prediction/source_data/LocationTypeIDs.tsv',\n",
    "\tf_d_model_list = '/Users/jeff/Projects/myrwa/myrwa-rf-bact-prediction/RecFlag Model List.xlsx',\n",
    "\t)"
   ]
  },
  {
   "cell_type": "code",
   "execution_count": 3,
   "metadata": {},
   "outputs": [],
   "source": [
    "d_combined = pd.concat([d_rf, d_mwra_base, d_dcr])"
   ]
  },
  {
   "cell_type": "code",
   "execution_count": 4,
   "metadata": {},
   "outputs": [
    {
     "name": "stdout",
     "output_type": "stream",
     "text": [
      "Interpolating streamflow data\n",
      "Preparing data\n"
     ]
    },
    {
     "name": "stderr",
     "output_type": "stream",
     "text": [
      "/Users/jeff/anaconda3/lib/python3.6/site-packages/pandas/core/indexing.py:179: SettingWithCopyWarning: \n",
      "A value is trying to be set on a copy of a slice from a DataFrame\n",
      "\n",
      "See the caveats in the documentation: http://pandas.pydata.org/pandas-docs/stable/indexing.html#indexing-view-versus-copy\n",
      "  self._setitem_with_indexer(indexer, value)\n"
     ]
    },
    {
     "name": "stdout",
     "output_type": "stream",
     "text": [
      "Generating flow and rainfall data for simulation\n"
     ]
    }
   ],
   "source": [
    "col_cat = []\n",
    "\n",
    "d_h_aberjona = hourly_flow_interp(d_d_aberjona, ['64138_00060_00003'])\n",
    "\n",
    "flow_dfs = {'h_aberjona':(d_h_aberjona, '64138_00060_00003'), 'h_alewife':(d_h_alewife, '168619_00060')}\n",
    "col_cat_dummies = prepare_data(\n",
    "\tdb_dfs = {'comb':d_combined},\n",
    "\tflow_dfs = flow_dfs,\n",
    "\tl_locationtype = l_locationtype, col_cat = col_cat\n",
    "\t)\n",
    "\n",
    "df_sim_flow_rainfall, hrs_sim = gen_flow_rainfall('2016-01-01 00:00:00', '2016-12-31 00:00:00', flow_dfs, d_logan['prcp_in'],)"
   ]
  },
  {
   "cell_type": "code",
   "execution_count": 5,
   "metadata": {
    "collapsed": true
   },
   "outputs": [],
   "source": [
    "standard_limits = {\n",
    "\t'Boating':{'ECOLI':1260,'ENT':350},\n",
    "\t'Swimming':{'ECOLI':235,'ENT':104},\n",
    "\t}\n",
    "\n",
    "model_dic = {}"
   ]
  },
  {
   "cell_type": "code",
   "execution_count": 10,
   "metadata": {},
   "outputs": [
    {
     "name": "stdout",
     "output_type": "stream",
     "text": [
      "Engineering features\n",
      "Splitting train and test data\n"
     ]
    }
   ],
   "source": [
    "model_i = 0\n",
    "model_spec = d_model_list.iloc[model_i]\n",
    "\n",
    "result_db_f, IVs = engineer_features(\n",
    "    result_db = d_combined, \n",
    "    CharacteristicIDs = [model_spec.CharacteristicID],\n",
    "    Unit = 'MPN/100ml',\n",
    "    flow_dfs = flow_dfs,\n",
    "    col_cat_dummies = col_cat_dummies,\n",
    "    d_logan = d_logan,\n",
    "    )\n",
    "\n",
    "sel = result_db_f.LocationID.isin(model_spec['LocationID(s)'].split( ' + '))\n",
    "X_all, y_all, X_train, X_test, y_train, y_test, baseline = gen_train_test(\n",
    "                                result_db_f[sel], \n",
    "                                {model_spec.CharacteristicID: standard_limits[model_spec.Standard][model_spec.CharacteristicID]}, \n",
    "                                IVs)\n",
    "\n",
    "## Save model\n",
    "model_name = '_'.join(model_spec.values)"
   ]
  },
  {
   "cell_type": "code",
   "execution_count": 12,
   "metadata": {},
   "outputs": [
    {
     "data": {
      "text/plain": [
       "array([[  3.38708333e+01,  -3.04166667e-01,   1.57000000e+01, ...,\n",
       "          0.00000000e+00,   5.00000000e-02,   4.00000000e-02],\n",
       "       [  2.35125000e+01,  -1.12500000e-01,   1.02000000e+01, ...,\n",
       "          2.70000000e-01,   0.00000000e+00,   0.00000000e+00],\n",
       "       [  3.81333333e+01,   4.29166667e-01,   1.16000000e+01, ...,\n",
       "          1.20000000e-01,   0.00000000e+00,   0.00000000e+00],\n",
       "       ..., \n",
       "       [  5.66833333e+00,  -3.83333333e-02,   2.95000000e+00, ...,\n",
       "          0.00000000e+00,   0.00000000e+00,   0.00000000e+00],\n",
       "       [  5.38250000e+01,  -1.29583333e+00,   2.44000000e+01, ...,\n",
       "          0.00000000e+00,   0.00000000e+00,   0.00000000e+00],\n",
       "       [  2.56250000e+01,  -7.91666667e-02,   7.32000000e+00, ...,\n",
       "          9.00000000e-02,   4.80000000e-01,   5.00000000e-02]])"
      ]
     },
     "execution_count": 12,
     "metadata": {},
     "output_type": "execute_result"
    }
   ],
   "source": [
    "X_all"
   ]
  },
  {
   "cell_type": "code",
   "execution_count": null,
   "metadata": {
    "collapsed": true
   },
   "outputs": [],
   "source": [
    "model_dic[model_name] = bacteria_model(\n",
    "    model_spec, \n",
    "    X_all, y_all, X_train, X_test, y_train, y_test, \n",
    "    IVs, model_spec.Standard, model_spec.CharacteristicID, 'MPN/100ml',\n",
    "    sensitivity = 0.5, locations = model_spec['LocationID(s)'].split(' + '))"
   ]
  }
 ],
 "metadata": {
  "kernelspec": {
   "display_name": "Python 3",
   "language": "python",
   "name": "python3"
  },
  "language_info": {
   "codemirror_mode": {
    "name": "ipython",
    "version": 3
   },
   "file_extension": ".py",
   "mimetype": "text/x-python",
   "name": "python",
   "nbconvert_exporter": "python",
   "pygments_lexer": "ipython3",
   "version": "3.6.2"
  }
 },
 "nbformat": 4,
 "nbformat_minor": 2
}
